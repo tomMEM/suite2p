{
 "cells": [
  {
   "cell_type": "code",
   "execution_count": 2,
   "metadata": {},
   "outputs": [],
   "source": [
    "import numpy as np\n",
    "import sys\n",
    "sys.path.insert(0, 'C:/Users/carse/github/suite2p/')\n",
    "from suite2p import run_s2p\n",
    "\n",
    "ops = run_s2p.default_ops()\n",
    "\n",
    "np.save('../suite2p/ops/ops.npy', ops)"
   ]
  },
  {
   "cell_type": "code",
   "execution_count": 4,
   "metadata": {},
   "outputs": [],
   "source": [
    "import numpy as np\n",
    "\n",
    "ops = run_s2p.default_ops()\n",
    "\n",
    "ops['1Preg'] = True\n",
    "ops['smooth_sigma'] = 6\n",
    "ops['high_pass'] = 6\n",
    "ops['sparse_mode'] = True\n",
    "ops['maxregshiftNR'] = 8\n",
    "\n",
    "np.save('../suite2p/ops/ops_1P.npy', ops)"
   ]
  },
  {
   "cell_type": "code",
   "execution_count": 6,
   "metadata": {},
   "outputs": [],
   "source": [
    "import numpy as np\n",
    "\n",
    "ops = run_s2p.default_ops()\n",
    "\n",
    "ops['connected'] = True\n",
    "ops['allow_overlap'] = True\n",
    "ops['max_overlap'] = 1.0\n",
    "\n",
    "np.save('../suite2p/ops/ops_dendrite.npy', ops)"
   ]
  }
 ],
 "metadata": {
  "kernelspec": {
   "display_name": "Python 3",
   "language": "python",
   "name": "python3"
  },
  "language_info": {
   "codemirror_mode": {
    "name": "ipython",
    "version": 3
   },
   "file_extension": ".py",
   "mimetype": "text/x-python",
   "name": "python",
   "nbconvert_exporter": "python",
   "pygments_lexer": "ipython3",
   "version": "3.7.6"
  }
 },
 "nbformat": 4,
 "nbformat_minor": 2
}
